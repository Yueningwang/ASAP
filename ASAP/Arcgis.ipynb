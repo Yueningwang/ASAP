{
 "cells": [
  {
   "cell_type": "code",
   "execution_count": 1,
   "metadata": {},
   "outputs": [],
   "source": [
    "##Arcgis License\n",
    "import arcpy\n",
    "from arcpy.sa import *\n",
    "from Solar_Calculation import *"
   ]
  },
  {
   "cell_type": "code",
   "execution_count": null,
   "metadata": {},
   "outputs": [],
   "source": [
    "## set workspace (need to change)\n",
    "arcpy.env.workspace = 'data'\n",
    "arcpy.env.overwriteOutput = True\n",
    "##load extensions\n",
    "arcpy.CheckOutExtension(\"3D\")\n",
    "arcpy.CheckOutExtension(\"Spatial\")"
   ]
  },
  {
   "cell_type": "code",
   "execution_count": null,
   "metadata": {},
   "outputs": [],
   "source": [
    "def arc_beg(work_path):\n",
    "    \"\"\"This function is used to set workspace and load extensions of Arcgis. The input should be the path all files store.\"\"\"\n",
    "    arcpy.env.workspace = work_path  # set workspace\n",
    "    arcpy.env.overwriteOutput = True\n",
    "    arcpy.CheckOutExtension(\"3D\")  # load 3D Analyst tool\n",
    "    arcpy.CheckOutExtension(\"Spatial\")  # load Spatial Analyst tool\n",
    "    print(\"The workspace has set to: \" + work_path)\n",
    "    return"
   ]
  },
  {
   "cell_type": "code",
   "execution_count": 2,
   "metadata": {},
   "outputs": [
    {
     "name": "stdout",
     "output_type": "stream",
     "text": [
      "The workspace has set to: data/temporary data/\n"
     ]
    }
   ],
   "source": [
    "arc_beg('data/temporary data/')"
   ]
  },
  {
   "cell_type": "code",
   "execution_count": null,
   "metadata": {
    "scrolled": true
   },
   "outputs": [],
   "source": [
    "#Create LAS Dataset (3D Analyst or Spatial Analyst)\n",
    "# input can be a folder if choose recursion\n",
    "arcpy.CreateLasDataset_management('data/Government Hill/1662_2638.las', 'GH.lasd', 'RECURSION')"
   ]
  },
  {
   "cell_type": "code",
   "execution_count": null,
   "metadata": {},
   "outputs": [],
   "source": [
    "#LAS Dataset to Raster (Spatial Analyst or 3D Analyst)\n",
    "arcpy.LasDatasetToRaster_conversion('GH.lasd', 'GH', \"ELEVATION\", \"BINNING AVERAGE NATURAL_NEIGHBOR\",\n",
    "                                   \"FLOAT\", \"CELLSIZE\", 1, 1)"
   ]
  },
  {
   "cell_type": "code",
   "execution_count": null,
   "metadata": {},
   "outputs": [],
   "source": [
    "def las_to_raster(las):\n",
    "    \"\"\"This function converts las data to las dataset, and turn the dataset into raster.\n",
    "    The input should be .las files or folder and the ouput will be raster file\"\"\"\n",
    "    dem = 'DEM_raster'\n",
    "    arcpy.CreateLasDataset_management(las, 'dataset.lasd', 'RECURSION')  # convert las data into las dataset\n",
    "    arcpy.LasDatasetToRaster_conversion('dataset.lasd', dem, \"ELEVATION\", \"BINNING AVERAGE NATURAL_NEIGHBOR\",\n",
    "                                        \"FLOAT\", \"CELLSIZE\", 1, 1)  # convert las dataset into raster\n",
    "    return dem"
   ]
  },
  {
   "cell_type": "code",
   "execution_count": 3,
   "metadata": {},
   "outputs": [],
   "source": [
    "dem = las_to_raster('data/Government Hill/1662_2638.las')"
   ]
  },
  {
   "cell_type": "code",
   "execution_count": null,
   "metadata": {
    "scrolled": true
   },
   "outputs": [],
   "source": [
    "#Project dem into different coordinate system\n",
    "out_coordinate_system = arcpy.SpatialReference(26934)\n",
    "arcpy.ProjectRaster_management('GH', 'XY_GH', out_coordinate_system, \"BILINEAR\")\n",
    "#Covert unit of z value from feet to meter\n",
    "Project_raster = Times('XY_GH', 0.3048)\n",
    "Project_raster.save('Project_GH')"
   ]
  },
  {
   "cell_type": "code",
   "execution_count": null,
   "metadata": {},
   "outputs": [],
   "source": [
    "def project_raster(dem):\n",
    "    \"\"\"This function is used to convert unit of corrdination system from feet to meter.\n",
    "    The input should be a raster and the output will be projected raster file\"\"\"\n",
    "    raster = 'projected_DEM'\n",
    "    out_coordinate_system = arcpy.SpatialReference(26934)\n",
    "    arcpy.ProjectRaster_management(dem, 'XY_dem', out_coordinate_system, \"BILINEAR\", '1') #Project XY coordination system\n",
    "    pro_raster = Times('XY_dem', 0.3048) #Covert unit of z value from feet to meter\n",
    "    pro_raster.save(raster)\n",
    "    return raster"
   ]
  },
  {
   "cell_type": "code",
   "execution_count": 4,
   "metadata": {},
   "outputs": [],
   "source": [
    "raster = project_raster(dem)"
   ]
  },
  {
   "cell_type": "code",
   "execution_count": null,
   "metadata": {},
   "outputs": [],
   "source": [
    "#Aspect (3D Analyst or Spatial Analyst)\n",
    "arcpy.Aspect_3d('Project_GH', 'aspect')\n",
    "#filter south facing or horizontal aspect. Flat, 112.5 <= aspect <= 247.5, set value to 1, others to None\n",
    "filter_aspect = Con((Raster('aspect') == -1) | (Raster('aspect') >= 112.5) & (Raster('aspect') <= 247.5), 1, '')\n",
    "# save aspect_raster\n",
    "filter_aspect.save(\"filtered_aspect.tif\")"
   ]
  },
  {
   "cell_type": "code",
   "execution_count": null,
   "metadata": {},
   "outputs": [],
   "source": [
    "#Slope (3D Analyst or Spatial Analyst)\n",
    "arcpy.Slope_3d('Project_GH', 'slope', \"DEGREE\", 1)\n",
    "# filter slope degree <= 35 to 1, others to None\n",
    "filter_slope = Con(Raster('slope') <= 35, 1, '')\n",
    "#save slope_raster\n",
    "filter_slope.save(\"filtered_slope.tif\")"
   ]
  },
  {
   "cell_type": "code",
   "execution_count": null,
   "metadata": {},
   "outputs": [],
   "source": [
    "#Combine slope and aspect\n",
    "result = Times(\"filtered_aspect.tif\", \"filtered_slope.tif\")\n",
    "result.save(\"aspect_slope\")"
   ]
  },
  {
   "cell_type": "code",
   "execution_count": null,
   "metadata": {},
   "outputs": [],
   "source": [
    "def create_mask(raster):\n",
    "    \"\"\"This function creates a mask to filter unsuitable location to install solar panels.\n",
    "    The input should be a raster and the output will be mask raster\"\"\"\n",
    "    mask = 'mask_raster'\n",
    "    arcpy.Aspect_3d(raster, 'aspect')  # filter aspect\n",
    "    # filter south facing or horizontal aspect. Flat, 112.5 <= aspect <= 247.5, set value to 1, others to None\n",
    "    filter_aspect = Con((Raster('aspect') == -1) | (Raster('aspect') >= 112.5) & (Raster('aspect') <= 247.5), 1, '')\n",
    "    filter_aspect.save(\"filtered_aspect.tif\")\n",
    "    arcpy.Slope_3d(raster, 'slope', \"DEGREE\", 1)  # filter slope\n",
    "    # filter slope degree <= 35 to 1, others to None\n",
    "    filter_slope = Con(Raster('slope') <= 35, 1, '')\n",
    "    filter_slope.save(\"filtered_slope.tif\")\n",
    "    result = Times(\"filtered_aspect.tif\", \"filtered_slope.tif\")  # Combine slope and aspect\n",
    "    result.save(mask)\n",
    "    return maskr"
   ]
  },
  {
   "cell_type": "code",
   "execution_count": 5,
   "metadata": {},
   "outputs": [],
   "source": [
    "mask = create_mask(raster)"
   ]
  },
  {
   "cell_type": "code",
   "execution_count": null,
   "metadata": {},
   "outputs": [],
   "source": [
    "#Combine with raster\n",
    "result = Times(\"aspect_slope\", \"GH\")\n",
    "result.save(\"result\")"
   ]
  },
  {
   "cell_type": "code",
   "execution_count": null,
   "metadata": {},
   "outputs": [],
   "source": [
    "#Extract by building polygon\n",
    "building_raster = ExtractByMask(\"result\", \"data/buildings/buildings.shp\")\n",
    "building_raster.save(\"braster\")"
   ]
  },
  {
   "cell_type": "code",
   "execution_count": null,
   "metadata": {},
   "outputs": [],
   "source": [
    "#Area Solar Radiation (Spatial Analyst)\n",
    "# unit: watt hours per square meter (WH/m2) ??\n",
    "solar = AreaSolarRadiation('braster', '', '', TimeWholeYear(2018))\n",
    "solar.save('solar')"
   ]
  },
  {
   "cell_type": "code",
   "execution_count": null,
   "metadata": {},
   "outputs": [],
   "source": [
    "def solar_radiation(mask, raster, polygon):\n",
    "    \"\"\"This function is used to calculate solar radiation of filtered location.\n",
    "    The input should be mask raster, DEM raster, polygon shape file and the output will be solar energy table\"\"\"\n",
    "    solar = 'solar_raster'\n",
    "    solar_tab = 'solar_energy'\n",
    "    result = Times(mask, raster)\n",
    "    result.save(\"result\")\n",
    "    polygon_raster = ExtractByMask(\"result\", polygon)  # extract by polygon of buildings or parking lots\n",
    "    polygon_raster.save(\"poly_raster\")\n",
    "    sol_radiation = AreaSolarRadiation(\"poly_raster\", time_configuration=TimeWholeYear(2018), out_direct_duration_raster='solar_dur')  # calculate solar radiation\n",
    "    sol_radiation.save(\"solar_rad\")  # unit WH/m2\n",
    "    solar_result = Divide('solar_rad', \"solar_dur\")\n",
    "    solar_result.save(solar)  # unit W/m2\n",
    "    ZonalStatisticsAsTable(polygon, 'FID', solar, solar_tab, \"DATA\", \"SUM\")  # generate solar energy table\n",
    "    return solar_tab"
   ]
  },
  {
   "cell_type": "code",
   "execution_count": 7,
   "metadata": {},
   "outputs": [],
   "source": [
    "solar_tab = solar_radiation(mask, raster, 'data/buildings/buildings.shp')"
   ]
  },
  {
   "cell_type": "code",
   "execution_count": null,
   "metadata": {
    "scrolled": true
   },
   "outputs": [],
   "source": [
    "#Zonal Statistics\n",
    "ZonalStatisticsAsTable ('data/buildings/buildings.shp', 'FID', 'solar_raster', 'solar_energy', \"DATA\", \"SUM\")"
   ]
  },
  {
   "cell_type": "code",
   "execution_count": null,
   "metadata": {},
   "outputs": [],
   "source": [
    "def join_shape(solar_tab, building, address):\n",
    "    \"\"\"This function is used to join the solar energy table with building and address shape files\n",
    "    The input should be table, building and address shape files, and the output should be joined shape file\"\"\"\n",
    "    arcpy.AddIndex_management(solar_tab, 'FID')  # Index.\n",
    "    # join table to building\n",
    "    arcpy.MakeFeatureLayer_management(building, 'build_layer')\n",
    "    arcpy.AddJoin_management('build_layer', 'FID', solar_tab, 'FID', 'KEEP_COMMON')\n",
    "    arcpy.CopyFeatures_management('build_layer', 'solar_build')\n",
    "    # join address to building\n",
    "    "
   ]
  },
  {
   "cell_type": "code",
   "execution_count": 9,
   "metadata": {},
   "outputs": [
    {
     "data": {
      "text/plain": [
       "<Result 'data/temporary data\\\\solar_build.shp'>"
      ]
     },
     "execution_count": 9,
     "metadata": {},
     "output_type": "execute_result"
    }
   ],
   "source": [
    "# Index.\n",
    "arcpy.AddIndex_management('solar_energy', 'FID')\n",
    "#Add Join\n",
    "arcpy.MakeFeatureLayer_management('data/buildings/buildings.shp', 'solar_layer')\n",
    "arcpy.AddJoin_management('solar_layer', 'FID', 'solar_energy', 'FID', 'KEEP_COMMON')\n",
    "arcpy.CopyFeatures_management('solar_layer', 'solar_build')"
   ]
  },
  {
   "cell_type": "code",
   "execution_count": null,
   "metadata": {},
   "outputs": [],
   "source": [
    "#Spatial Join\n",
    "arcpy.SpatialJoin_analysis('solar_build', 'data/address_pt/address_pt.shp', 'buil_addr',\n",
    "                           'JOIN_ONE_TO_ONE', 'KEEP_ALL', '#', 'CLOSEST')"
   ]
  },
  {
   "cell_type": "code",
   "execution_count": null,
   "metadata": {},
   "outputs": [],
   "source": [
    "# create field_mapping\n",
    "fieldmappings = arcpy.FieldMappings()\n",
    "\n",
    "fld_st_add = arcpy.FieldMap()\n",
    "fld_cityzip = arcpy\n",
    "fld_cou =\n",
    "fld_area =\n",
    "fld_solar ="
   ]
  },
  {
   "cell_type": "code",
   "execution_count": null,
   "metadata": {},
   "outputs": [],
   "source": [
    "#Covert to kml\n",
    "arcpy.MakeFeatureLayer_management('data/temporary data/buil_addr.shp', 'addr_layer')\n",
    "arcpy.LayerToKML_conversion('addr_layer', 'final.kmz')"
   ]
  },
  {
   "cell_type": "code",
   "execution_count": null,
   "metadata": {},
   "outputs": [],
   "source": [
    "#Extract building polygon\n",
    "arcpy.RasterToPolygon_conversion('GH', 'building', \"NO_SIMPLIFY\", \"VALUE\")"
   ]
  },
  {
   "cell_type": "code",
   "execution_count": null,
   "metadata": {},
   "outputs": [],
   "source": [
    "#Hillshade (3D Analyst or Spatial Analyst)\n",
    "#Haven't used yet\n",
    "arcpy.HillShade_3d(raster, hillshaded_raster, 315, 45, \"SHADOWS\", 1)"
   ]
  },
  {
   "cell_type": "code",
   "execution_count": null,
   "metadata": {},
   "outputs": [],
   "source": [
    "# Replace a layer/table view name with a path to a dataset (which can be a layer file) or create the layer/table view within the script\n",
    "# The following inputs are layers or table views: \"solar_build\", \"address_pt\"\n",
    "arcpy.SpatialJoin_analysis(target_features=\"solar_build\", join_features=\"address_pt\", out_feature_class=\"C:/Users/acer/Documents/ArcGIS/Default1.gdb/solar_build_SpatialJoin\", join_operation=\"JOIN_ONE_TO_ONE\", join_type=\"KEEP_ALL\", field_mapping='solar_en_4 \"solar_en_4\" true true false 19 Double 0 0 ,First,#,solar_build,solar_en_4,-1,-1;ST_ADD \"ST_ADD\" true true false 75 Text 0 0 ,First,#,address_pt,ST_ADD,-1,-1;CITYSTZIP \"CITYSTZIP\" true true false 75 Text 0 0 ,First,#,address_pt,CITYSTZIP,-1,-1;COUNCIL \"COUNCIL\" true true false 50 Text 0 0 ,First,#,address_pt,COUNCIL,-1,-1', match_option=\"CLOSEST\", search_radius=\"\", distance_field_name=\"\")"
   ]
  }
 ],
 "metadata": {
  "kernelspec": {
   "display_name": "Python 2",
   "language": "python",
   "name": "python2"
  },
  "language_info": {
   "codemirror_mode": {
    "name": "ipython",
    "version": 2
   },
   "file_extension": ".py",
   "mimetype": "text/x-python",
   "name": "python",
   "nbconvert_exporter": "python",
   "pygments_lexer": "ipython2",
   "version": "2.7.14"
  }
 },
 "nbformat": 4,
 "nbformat_minor": 1
}
