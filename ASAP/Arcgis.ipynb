{
 "cells": [
  {
   "cell_type": "code",
   "execution_count": null,
   "metadata": {},
   "outputs": [],
   "source": [
    "##Arcgis License\n",
    "import arcpy"
   ]
  },
  {
   "cell_type": "code",
   "execution_count": null,
   "metadata": {},
   "outputs": [],
   "source": [
    "## set workspace (need to change)\n",
    "arcpy.env.workspace = 'C:/data'\n",
    "##load extensions\n",
    "arcpy.CheckOutExtension(\"3D\")\n",
    "arcpy.CheckOutExtension(\"Spatial\")"
   ]
  },
  {
   "cell_type": "code",
   "execution_count": null,
   "metadata": {},
   "outputs": [],
   "source": [
    "#Create LAS Dataset (3D Analyst or Spatial Analyst)\n",
    "# input can be a folder if choose recursion\n",
    "arcpy.CreateLasDataset_management(input[folder], las_dataset, 'RECURSION')"
   ]
  },
  {
   "cell_type": "code",
   "execution_count": null,
   "metadata": {},
   "outputs": [],
   "source": [
    "#Classify LAS Building (3D Analyst) minHeight and minArea can change, but it generates automatically in Arcmap\n",
    "arcpy.ClassifyLasBuilding_3d(las_dataset, minHeight='6.56 Feet', minArea='47.6 SquareFeet', compute_stats=True)"
   ]
  },
  {
   "cell_type": "code",
   "execution_count": null,
   "metadata": {},
   "outputs": [],
   "source": [
    "#LAS Dataset to Raster (Spatial Analyst or 3D Analyst)\n",
    "#FLOAT can change to INT if it takes long to run\n",
    "arcpy.LasDatasetToRaster_conversion(las_dataset, dem, \"ELEVATION\", \"BINNING AVERAGE NATURAL_NEIGHBOR\",\n",
    "                                   \"FLOAT\", \"CELLSIZE\", 1, 1)"
   ]
  },
  {
   "cell_type": "code",
   "execution_count": null,
   "metadata": {},
   "outputs": [],
   "source": [
    "#Aspect (3D Analyst or Spatial Analyst)\n",
    "arcpy.Aspect_3d(dem, aspect)"
   ]
  },
  {
   "cell_type": "code",
   "execution_count": null,
   "metadata": {},
   "outputs": [],
   "source": [
    "#Slope (3D Analyst or Spatial Analyst)\n",
    "arcpy.Slope_3d(dem, slope, \"DEGREE\", 1)"
   ]
  },
  {
   "cell_type": "code",
   "execution_count": null,
   "metadata": {},
   "outputs": [],
   "source": [
    "#Area Solar Radiation (Spatial Analyst)\n",
    "# unit: watt hours per square meter (WH/m2) ??\n",
    "solar = arcpy.sa.AreaSolarRadiation(dem, TimeWholeYear(2018))"
   ]
  },
  {
   "cell_type": "code",
   "execution_count": null,
   "metadata": {},
   "outputs": [],
   "source": [
    "#Extract building polygon\n",
    "arcpy.RasterToPolygon_conversion(dem, building, \"NO_SIMPLIFY\", \"VALUE\")"
   ]
  },
  {
   "cell_type": "code",
   "execution_count": null,
   "metadata": {},
   "outputs": [],
   "source": [
    "#Hillshade (3D Analyst or Spatial Analyst)\n",
    "#Haven't used yet\n",
    "arcpy.HillShade_3d(raster, hillshaded_raster, 315, 45, \"SHADOWS\", 1)"
   ]
  }
 ],
 "metadata": {
  "kernelspec": {
   "display_name": "Python 3",
   "language": "python",
   "name": "python3"
  },
  "language_info": {
   "codemirror_mode": {
    "name": "ipython",
    "version": 3
   },
   "file_extension": ".py",
   "mimetype": "text/x-python",
   "name": "python",
   "nbconvert_exporter": "python",
   "pygments_lexer": "ipython3",
   "version": "3.6.5"
  }
 },
 "nbformat": 4,
 "nbformat_minor": 1
}
