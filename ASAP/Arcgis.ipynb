{
 "cells": [
  {
   "cell_type": "code",
   "execution_count": 4,
   "metadata": {},
   "outputs": [],
   "source": [
    "##Arcgis License\n",
    "import arcpy\n",
    "from arcpy.sa import *"
   ]
  },
  {
   "cell_type": "code",
   "execution_count": 5,
   "metadata": {},
   "outputs": [
    {
     "data": {
      "text/plain": [
       "u'CheckedOut'"
      ]
     },
     "execution_count": 5,
     "metadata": {},
     "output_type": "execute_result"
    }
   ],
   "source": [
    "## set workspace (need to change)\n",
    "arcpy.env.workspace = 'data/'\n",
    "arcpy.env.overwriteOutput = True\n",
    "##load extensions\n",
    "arcpy.CheckOutExtension(\"3D\")\n",
    "arcpy.CheckOutExtension(\"Spatial\")"
   ]
  },
  {
   "cell_type": "code",
   "execution_count": null,
   "metadata": {
    "scrolled": true
   },
   "outputs": [],
   "source": [
    "#Create LAS Dataset (3D Analyst or Spatial Analyst)\n",
    "# input can be a folder if choose recursion\n",
    "arcpy.CreateLasDataset_management('data/Government Hill/1662_2638.las', 'GH.lasd', 'RECURSION')"
   ]
  },
  {
   "cell_type": "code",
   "execution_count": null,
   "metadata": {},
   "outputs": [],
   "source": [
    "#LAS Dataset to Raster (Spatial Analyst or 3D Analyst)\n",
    "#FLOAT can change to INT if it takes long to run\n",
    "arcpy.LasDatasetToRaster_conversion('GH.lasd', 'GH', \"ELEVATION\", \"BINNING AVERAGE NATURAL_NEIGHBOR\",\n",
    "                                   \"FLOAT\", \"CELLSIZE\", 1, 1)"
   ]
  },
  {
   "cell_type": "code",
   "execution_count": null,
   "metadata": {},
   "outputs": [],
   "source": [
    "#Aspect (3D Analyst or Spatial Analyst)\n",
    "arcpy.Aspect_3d('GH', 'aspect')\n",
    "#filter south facing or horizontal aspect. Flat, 112.5 <= aspect <= 247.5, set value to 1, others to None\n",
    "#outSetNull = SetNull('aspect', 1, \"VALUE < 0\")\n",
    "#outSetNull.save(\"filtered_aspect\")\n",
    "filter_aspect = Con((Raster('aspect') == -1) | (Raster('aspect') >= 112.5) & (Raster('aspect') <= 247.5), 1, '')\n",
    "# save aspect_raster\n",
    "filter_aspect.save(\"filtered_aspect.tif\")"
   ]
  },
  {
   "cell_type": "code",
   "execution_count": null,
   "metadata": {},
   "outputs": [],
   "source": [
    "#Slope (3D Analyst or Spatial Analyst)\n",
    "arcpy.Slope_3d('GH', 'slope', \"DEGREE\", 1)\n",
    "# filter slope degree <= 35 to 1, others to None\n",
    "filter_slope = Con(Raster('slope') <= 35, 1, '')\n",
    "#save slope_raster\n",
    "filter_slope.save(\"filtered_slope.tif\")"
   ]
  },
  {
   "cell_type": "code",
   "execution_count": null,
   "metadata": {},
   "outputs": [],
   "source": [
    "#Combine slope and aspect\n",
    "result = Times(\"filtered_aspect.tif\", \"filtered_slope.tif\")\n",
    "result.save(\"aspect_slope\")"
   ]
  },
  {
   "cell_type": "code",
   "execution_count": null,
   "metadata": {},
   "outputs": [],
   "source": [
    "#Combine with raster\n",
    "result = Times(\"aspect_slope\", \"GH\")\n",
    "result.save(\"result\")"
   ]
  },
  {
   "cell_type": "code",
   "execution_count": null,
   "metadata": {},
   "outputs": [],
   "source": [
    "#Extract by building polygon\n",
    "building_raster = ExtractByMask(\"result\", \"data/buildings/buildings.shp\")\n",
    "building_raster.save(\"braster\")"
   ]
  },
  {
   "cell_type": "code",
   "execution_count": 3,
   "metadata": {},
   "outputs": [],
   "source": [
    "#Area Solar Radiation (Spatial Analyst)\n",
    "# unit: watt hours per square meter (WH/m2) ??\n",
    "solar = AreaSolarRadiation('braster', '', '', TimeWholeYear(2018))\n",
    "solar.save('solar')"
   ]
  },
  {
   "cell_type": "code",
   "execution_count": null,
   "metadata": {},
   "outputs": [],
   "source": [
    "#Extract building polygon\n",
    "arcpy.RasterToPolygon_conversion('GH', 'building', \"NO_SIMPLIFY\", \"VALUE\")"
   ]
  },
  {
   "cell_type": "code",
   "execution_count": null,
   "metadata": {},
   "outputs": [],
   "source": [
    "#Hillshade (3D Analyst or Spatial Analyst)\n",
    "#Haven't used yet\n",
    "arcpy.HillShade_3d(raster, hillshaded_raster, 315, 45, \"SHADOWS\", 1)"
   ]
  }
 ],
 "metadata": {
  "kernelspec": {
   "display_name": "Python 2",
   "language": "python",
   "name": "python2"
  },
  "language_info": {
   "codemirror_mode": {
    "name": "ipython",
    "version": 2
   },
   "file_extension": ".py",
   "mimetype": "text/x-python",
   "name": "python",
   "nbconvert_exporter": "python",
   "pygments_lexer": "ipython2",
   "version": "2.7.14"
  }
 },
 "nbformat": 4,
 "nbformat_minor": 1
}
