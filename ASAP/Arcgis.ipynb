{
 "cells": [
  {
   "cell_type": "code",
   "execution_count": 2,
   "metadata": {},
   "outputs": [],
   "source": [
    "##Arcgis License\n",
    "import arcpy\n",
    "from arcpy.sa import *"
   ]
  },
  {
   "cell_type": "code",
   "execution_count": null,
   "metadata": {},
   "outputs": [],
   "source": [
    "## set workspace (need to change)\n",
    "arcpy.env.workspace = 'data'\n",
    "arcpy.env.overwriteOutput = True\n",
    "##load extensions\n",
    "arcpy.CheckOutExtension(\"3D\")\n",
    "arcpy.CheckOutExtension(\"Spatial\")"
   ]
  },
  {
   "cell_type": "code",
   "execution_count": 3,
   "metadata": {},
   "outputs": [],
   "source": [
    "def arc_beg(work_path):\n",
    "    \"\"\"This function is used to set workspace and load extensions of Arcgis. The input should be the path all files store.\"\"\"\n",
    "    arcpy.env.workspace = work_path  # set workspace\n",
    "    arcpy.env.overwriteOutput = True\n",
    "    arcpy.CheckOutExtension(\"3D\")  # load 3D Analyst tool\n",
    "    arcpy.CheckOutExtension(\"Spatial\")  # load Spatial Analyst tool\n",
    "    return"
   ]
  },
  {
   "cell_type": "code",
   "execution_count": 4,
   "metadata": {},
   "outputs": [],
   "source": [
    "arc_beg('data/temporary data/')"
   ]
  },
  {
   "cell_type": "code",
   "execution_count": null,
   "metadata": {
    "scrolled": true
   },
   "outputs": [],
   "source": [
    "#Create LAS Dataset (3D Analyst or Spatial Analyst)\n",
    "# input can be a folder if choose recursion\n",
    "arcpy.CreateLasDataset_management('data/Government Hill/1662_2638.las', 'GH.lasd', 'RECURSION')"
   ]
  },
  {
   "cell_type": "code",
   "execution_count": null,
   "metadata": {},
   "outputs": [],
   "source": [
    "#LAS Dataset to Raster (Spatial Analyst or 3D Analyst)\n",
    "arcpy.LasDatasetToRaster_conversion('GH.lasd', 'GH', \"ELEVATION\", \"BINNING AVERAGE NATURAL_NEIGHBOR\",\n",
    "                                   \"FLOAT\", \"CELLSIZE\", 1, 1)"
   ]
  },
  {
   "cell_type": "code",
   "execution_count": 5,
   "metadata": {},
   "outputs": [],
   "source": [
    "def las_to_raster(las, dem):\n",
    "    \"\"\"This function converts las data to las dataset, and turn the dataset into raster. The input should be .las files or folder and the name of output raster file\"\"\"\n",
    "    arcpy.CreateLasDataset_management(las, 'dataset.lasd', 'RECURSION')  # convert las data into las dataset\n",
    "    arcpy.LasDatasetToRaster_conversion('dataset.lasd', dem, \"ELEVATION\", \"BINNING AVERAGE NATURAL_NEIGHBOR\",\n",
    "                                        \"FLOAT\", \"CELLSIZE\", 1, 1)  # convert las dataset into raster\n",
    "    return"
   ]
  },
  {
   "cell_type": "code",
   "execution_count": 17,
   "metadata": {},
   "outputs": [],
   "source": [
    "las_to_raster('data/Government Hill/1662_2638.las', 'GH')"
   ]
  },
  {
   "cell_type": "code",
   "execution_count": 24,
   "metadata": {
    "scrolled": true
   },
   "outputs": [],
   "source": [
    "#Project dem into different coordinate system\n",
    "out_coordinate_system = arcpy.SpatialReference(26934)\n",
    "arcpy.ProjectRaster_management('GH', 'XY_GH', out_coordinate_system, \"BILINEAR\")\n",
    "#Covert unit of z value from feet to meter\n",
    "Project_raster = Times('XY_GH', 0.3048)\n",
    "Project_raster.save('Project_GH')"
   ]
  },
  {
   "cell_type": "code",
   "execution_count": 25,
   "metadata": {},
   "outputs": [],
   "source": [
    "def project_raster(dem, raster):\n",
    "    \"\"\"This function is used to convert unit of corrdination system from feet to meter. The input should be a raster and the name of output raster file\"\"\"\n",
    "    out_coordinate_system = arcpy.SpatialReference(26934)\n",
    "    arcpy.ProjectRaster_management(dem, 'XY_dem', out_coordinate_system, \"BILINEAR\") #Project XY coordination system\n",
    "    Project_raster = Times('XY_dem', 0.3048) #Covert unit of z value from feet to meter\n",
    "    Project_raster.save(raster)\n",
    "    return"
   ]
  },
  {
   "cell_type": "code",
   "execution_count": 26,
   "metadata": {},
   "outputs": [],
   "source": [
    "project_raster('GH', 'Project_GH')"
   ]
  },
  {
   "cell_type": "code",
   "execution_count": null,
   "metadata": {},
   "outputs": [],
   "source": [
    "#Aspect (3D Analyst or Spatial Analyst)\n",
    "arcpy.Aspect_3d('Project_GH', 'aspect')\n",
    "#filter south facing or horizontal aspect. Flat, 112.5 <= aspect <= 247.5, set value to 1, others to None\n",
    "filter_aspect = Con((Raster('aspect') == -1) | (Raster('aspect') >= 112.5) & (Raster('aspect') <= 247.5), 1, '')\n",
    "# save aspect_raster\n",
    "filter_aspect.save(\"filtered_aspect.tif\")"
   ]
  },
  {
   "cell_type": "code",
   "execution_count": null,
   "metadata": {},
   "outputs": [],
   "source": [
    "#Slope (3D Analyst or Spatial Analyst)\n",
    "arcpy.Slope_3d('Project_GH', 'slope', \"DEGREE\", 1)\n",
    "# filter slope degree <= 35 to 1, others to None\n",
    "filter_slope = Con(Raster('slope') <= 35, 1, '')\n",
    "#save slope_raster\n",
    "filter_slope.save(\"filtered_slope.tif\")"
   ]
  },
  {
   "cell_type": "code",
   "execution_count": null,
   "metadata": {},
   "outputs": [],
   "source": [
    "#Combine slope and aspect\n",
    "result = Times(\"filtered_aspect.tif\", \"filtered_slope.tif\")\n",
    "result.save(\"aspect_slope\")"
   ]
  },
  {
   "cell_type": "code",
   "execution_count": null,
   "metadata": {},
   "outputs": [],
   "source": [
    "def create_mask(raster, mask):\n",
    "    \"\"\"This function creates a mask to filter unsuitable location to install solar panels.\n",
    "    The input should be a raster and name of output mask raster\"\"\"\n",
    "    arcpy.Aspect_3d(raster, 'aspect')  # filter aspect\n",
    "    # filter south facing or horizontal aspect. Flat, 112.5 <= aspect <= 247.5, set value to 1, others to None\n",
    "    filter_aspect = Con((Raster('aspect') == -1) | (Raster('aspect') >= 112.5) & (Raster('aspect') <= 247.5), 1, '')\n",
    "    filter_aspect.save(\"filtered_aspect.tif\")\n",
    "    arcpy.Slope_3d(raster, 'slope', \"DEGREE\", 1)  # filter slope\n",
    "    # filter slope degree <= 35 to 1, others to None\n",
    "    filter_slope = Con(Raster('slope') <= 35, 1, '')\n",
    "    filter_slope.save(\"filtered_slope.tif\")\n",
    "    result = Times(\"filtered_aspect.tif\", \"filtered_slope.tif\")  # Combine slope and aspect\n",
    "    result.save(mask)\n",
    "    return"
   ]
  },
  {
   "cell_type": "code",
   "execution_count": null,
   "metadata": {},
   "outputs": [],
   "source": [
    "#Combine with raster\n",
    "result = Times(\"aspect_slope\", \"GH\")\n",
    "result.save(\"result\")"
   ]
  },
  {
   "cell_type": "code",
   "execution_count": null,
   "metadata": {},
   "outputs": [],
   "source": [
    "#Extract by building polygon\n",
    "building_raster = ExtractByMask(\"result\", \"data/buildings/buildings.shp\")\n",
    "building_raster.save(\"braster\")"
   ]
  },
  {
   "cell_type": "code",
   "execution_count": null,
   "metadata": {},
   "outputs": [],
   "source": [
    "#Area Solar Radiation (Spatial Analyst)\n",
    "# unit: watt hours per square meter (WH/m2) ??\n",
    "solar = AreaSolarRadiation('braster', '', '', TimeWholeYear(2018))\n",
    "solar.save('solar')"
   ]
  },
  {
   "cell_type": "code",
   "execution_count": null,
   "metadata": {},
   "outputs": [],
   "source": [
    "def solar_radiation(mask, raster, solar, polygon):\n",
    "    \"\"\"This function is used to calculate solar radiation of filtered location.\n",
    "    The input should be mask raster, DEM raster, polygon shape file and the name of output solar raster\"\"\"\n",
    "    result = Times(mask, raster)\n",
    "    result.save(\"result\")\n",
    "    polygon_raster = ExtractByMask(\"result\", polygon)  # extract by polygon of buildings or parking lots\n",
    "    polygon_raster.save(\"poly_raster\")\n",
    "    solar_radiation = AreaSolarRadiation(\"poly_raster\", time_configuration=TimeWholeYear(2018), out_direct_duration_raster='solar_dur')  # calculate solar radiation\n",
    "    solar_radiation.save(\"solar_rad\")  # unit WH/m2\n",
    "    solar_result = Divide('solar_rad', \"solar_dur\")\n",
    "    solar_result.save(solar)  # unit W/m2\n",
    "    return"
   ]
  },
  {
   "cell_type": "code",
   "execution_count": null,
   "metadata": {},
   "outputs": [],
   "source": [
    "#Zonal Statistics\n",
    "ZonalStatisticsAsTable ('data/buildings/buildings.shp', 'FID', 'solar', result, \"NODATA\", \"SUM\")"
   ]
  },
  {
   "cell_type": "code",
   "execution_count": null,
   "metadata": {},
   "outputs": [],
   "source": [
    "#Extract building polygon\n",
    "arcpy.RasterToPolygon_conversion('GH', 'building', \"NO_SIMPLIFY\", \"VALUE\")"
   ]
  },
  {
   "cell_type": "code",
   "execution_count": null,
   "metadata": {},
   "outputs": [],
   "source": [
    "#Hillshade (3D Analyst or Spatial Analyst)\n",
    "#Haven't used yet\n",
    "arcpy.HillShade_3d(raster, hillshaded_raster, 315, 45, \"SHADOWS\", 1)"
   ]
  }
 ],
 "metadata": {
  "kernelspec": {
   "display_name": "Python 2",
   "language": "python",
   "name": "python2"
  },
  "language_info": {
   "codemirror_mode": {
    "name": "ipython",
    "version": 2
   },
   "file_extension": ".py",
   "mimetype": "text/x-python",
   "name": "python",
   "nbconvert_exporter": "python",
   "pygments_lexer": "ipython2",
   "version": "2.7.14"
  }
 },
 "nbformat": 4,
 "nbformat_minor": 1
}
