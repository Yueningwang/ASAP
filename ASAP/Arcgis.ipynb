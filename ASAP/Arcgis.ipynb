{
 "cells": [
  {
   "cell_type": "code",
   "execution_count": 3,
   "metadata": {},
   "outputs": [
    {
     "ename": "ModuleNotFoundError",
     "evalue": "No module named 'arcpy'",
     "traceback": [
      "\u001b[0;31m---------------------------------------------------------------------------\u001b[0m",
      "\u001b[0;31mModuleNotFoundError\u001b[0m                       Traceback (most recent call last)",
      "\u001b[0;32m<ipython-input-3-50d283eebbb3>\u001b[0m in \u001b[0;36m<module>\u001b[0;34m()\u001b[0m\n\u001b[0;32m----> 1\u001b[0;31m \u001b[0;32mimport\u001b[0m \u001b[0marcpy\u001b[0m\u001b[0;34m\u001b[0m\u001b[0m\n\u001b[0m",
      "\u001b[0;31mModuleNotFoundError\u001b[0m: No module named 'arcpy'"
     ],
     "output_type": "error"
    }
   ],
   "source": [
    "import arcpy ##Arcgis License"
   ]
  },
  {
   "cell_type": "code",
   "execution_count": null,
   "metadata": {},
   "outputs": [],
   "source": [
    "arcpy.env.workspace = 'C:/data'"
   ]
  },
  {
   "cell_type": "code",
   "execution_count": null,
   "metadata": {},
   "outputs": [],
   "source": [
    "#Create LAS Dataset (3D Analyst or Spatial Analyst)\n",
    "arcpy.CreateLasDataset_management(input[folder], out_las_dataset, 'RECURSION')"
   ]
  },
  {
   "cell_type": "code",
   "execution_count": 1,
   "metadata": {},
   "outputs": [
    {
     "ename": "NameError",
     "evalue": "name 'arcpy' is not defined",
     "traceback": [
      "\u001b[0;31m---------------------------------------------------------------------------\u001b[0m",
      "\u001b[0;31mNameError\u001b[0m                                 Traceback (most recent call last)",
      "\u001b[0;32m<ipython-input-1-492bbb3406f9>\u001b[0m in \u001b[0;36m<module>\u001b[0;34m()\u001b[0m\n\u001b[1;32m      1\u001b[0m \u001b[0;31m#Classify LAS Building (3D Analyst)\u001b[0m\u001b[0;34m\u001b[0m\u001b[0;34m\u001b[0m\u001b[0m\n\u001b[0;32m----> 2\u001b[0;31m \u001b[0marcpy\u001b[0m\u001b[0;34m.\u001b[0m\u001b[0mClassifyLasBuilding_3d\u001b[0m\u001b[0;34m(\u001b[0m\u001b[0mout_las_dataset\u001b[0m\u001b[0;34m,\u001b[0m \u001b[0mminHeight\u001b[0m\u001b[0;34m=\u001b[0m\u001b[0;34m'6.56 Feet'\u001b[0m\u001b[0;34m,\u001b[0m \u001b[0mminArea\u001b[0m\u001b[0;34m=\u001b[0m\u001b[0;34m'47.6 SquareFeet'\u001b[0m\u001b[0;34m,\u001b[0m \u001b[0mcompute_stats\u001b[0m\u001b[0;34m=\u001b[0m\u001b[0;32mTrue\u001b[0m\u001b[0;34m)\u001b[0m\u001b[0;34m\u001b[0m\u001b[0m\n\u001b[0m",
      "\u001b[0;31mNameError\u001b[0m: name 'arcpy' is not defined"
     ],
     "output_type": "error"
    }
   ],
   "source": [
    "#Classify LAS Building (3D Analyst)\n",
    "arcpy.ClassifyLasBuilding_3d(out_las_dataset, minHeight='6.56 Feet', minArea='47.6 SquareFeet', compute_stats=True)"
   ]
  },
  {
   "cell_type": "code",
   "execution_count": null,
   "metadata": {},
   "outputs": [],
   "source": [
    "#LAS Dataset to Raster (Spatial Analyst or 3D Analyst) 0.3048: covert feet to meter\n",
    "arcpy.LasDatasetToRaster_conversion(out_las_dataset, raster, 'ELEVATION', \"BINNING AVERAGE NATURAL_NEIGHBOR\",\n",
    "                                   \"FLOAT\", \"CELLSIZE\", ##10##, 0.3048)"
   ]
  }
 ],
 "metadata": {
  "kernelspec": {
   "display_name": "Python 3",
   "language": "python",
   "name": "python3"
  },
  "language_info": {
   "codemirror_mode": {
    "name": "ipython",
    "version": 3
   },
   "file_extension": ".py",
   "mimetype": "text/x-python",
   "name": "python",
   "nbconvert_exporter": "python",
   "pygments_lexer": "ipython3",
   "version": "3.6.3"
  }
 },
 "nbformat": 4,
 "nbformat_minor": 1
}
