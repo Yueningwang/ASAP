{
 "cells": [
  {
   "cell_type": "code",
   "execution_count": 1,
   "metadata": {},
   "outputs": [
    {
     "name": "stderr",
     "output_type": "stream",
     "text": [
      "/Users/cheng/miniconda3/envs/myenv/lib/python3.6/site-packages/h5py/__init__.py:36: FutureWarning: Conversion of the second argument of issubdtype from `float` to `np.floating` is deprecated. In future, it will be treated as `np.float64 == np.dtype(float).type`.\n",
      "  from ._conv import register_converters as _register_converters\n"
     ]
    },
    {
     "ename": "NameError",
     "evalue": "name 'outFile' is not defined",
     "output_type": "error",
     "traceback": [
      "\u001b[0;31m---------------------------------------------------------------------------\u001b[0m",
      "\u001b[0;31mNameError\u001b[0m                                 Traceback (most recent call last)",
      "\u001b[0;32m<ipython-input-1-11113b184213>\u001b[0m in \u001b[0;36m<module>\u001b[0;34m()\u001b[0m\n\u001b[1;32m     45\u001b[0m \u001b[0;34m\u001b[0m\u001b[0m\n\u001b[1;32m     46\u001b[0m \u001b[0;31m#outFile = 'raster'\u001b[0m\u001b[0;34m\u001b[0m\u001b[0;34m\u001b[0m\u001b[0m\n\u001b[0;32m---> 47\u001b[0;31m \u001b[0miw\u001b[0m \u001b[0;34m=\u001b[0m \u001b[0mspatial\u001b[0m\u001b[0;34m.\u001b[0m\u001b[0mImageWriter\u001b[0m\u001b[0;34m(\u001b[0m\u001b[0moutFile\u001b[0m\u001b[0;34m,\u001b[0m \u001b[0mtlx\u001b[0m\u001b[0;34m=\u001b[0m\u001b[0mxMin\u001b[0m\u001b[0;34m,\u001b[0m \u001b[0mtly\u001b[0m\u001b[0;34m=\u001b[0m\u001b[0myMax\u001b[0m\u001b[0;34m,\u001b[0m \u001b[0mbinSize\u001b[0m\u001b[0;34m=\u001b[0m\u001b[0mBINSIZE\u001b[0m\u001b[0;34m)\u001b[0m\u001b[0;34m\u001b[0m\u001b[0m\n\u001b[0m\u001b[1;32m     48\u001b[0m \u001b[0miw\u001b[0m\u001b[0;34m.\u001b[0m\u001b[0msetLayer\u001b[0m\u001b[0;34m(\u001b[0m\u001b[0moutImage\u001b[0m\u001b[0;34m)\u001b[0m\u001b[0;34m\u001b[0m\u001b[0m\n\u001b[1;32m     49\u001b[0m \u001b[0miw\u001b[0m\u001b[0;34m.\u001b[0m\u001b[0mclose\u001b[0m\u001b[0;34m(\u001b[0m\u001b[0;34m)\u001b[0m\u001b[0;34m\u001b[0m\u001b[0m\n",
      "\u001b[0;31mNameError\u001b[0m: name 'outFile' is not defined"
     ]
    }
   ],
   "source": [
    "# Reads in an input lidar file and writes an\n",
    "# output image file with the minimum 'Z' value for\n",
    "# each bin\n",
    "import numpy\n",
    "from numba import jit\n",
    "from pylidar import lidarprocessor\n",
    "from pylidar.toolbox import spatial\n",
    "from pylidar.lidarformats import generic\n",
    "\n",
    "BINSIZE = 1.0\n",
    "\n",
    "@jit\n",
    "def findMinZs(data, outImage, xMin, yMax):\n",
    "    for i in range(data.shape[0]):\n",
    "        if data[i]['CLASSIFICATION'] == lidarprocessor.CLASSIFICATION_GROUND:\n",
    "            row, col = spatial.xyToRowColNumba(data[i]['X'], data[i]['Y'],\n",
    "                    xMin, yMax, BINSIZE)\n",
    "            if outImage[row, col] != 0:\n",
    "                if data[i]['Z'] < outImage[row, col]:\n",
    "                    outImage[row, col] = data[i]['Z']\n",
    "            else:\n",
    "                outImage[row, col] = data[i]['Z']\n",
    "\n",
    "def processChunk(data, otherArgs):\n",
    "    lidar = data.input1.getPoints(colNames=['X', 'Y', 'Z', 'CLASSIFICATION'])\n",
    "    findMinZs(lidar, otherArgs.outImage, otherArgs.xMin, otherArgs.yMax)\n",
    "\n",
    "inFile = 'building.las'\n",
    "info = generic.getLidarFileInfo(inFile)\n",
    "header = info.header\n",
    "\n",
    "dataFiles = lidarprocessor.DataFiles()\n",
    "dataFiles.input1 = lidarprocessor.LidarFile(inFile, lidarprocessor.READ)\n",
    "\n",
    "xMin, yMax, ncols, nrows = spatial.getGridInfoFromHeader(header, BINSIZE)\n",
    "\n",
    "outImage = numpy.zeros((nrows, ncols))\n",
    "\n",
    "otherArgs = lidarprocessor.OtherArgs()\n",
    "otherArgs.outImage = outImage\n",
    "otherArgs.xMin = xMin\n",
    "otherArgs.yMax = yMax\n",
    "\n",
    "lidarprocessor.doProcessing(processChunk, dataFiles, otherArgs=otherArgs)\n",
    "\n",
    "#outFile = 'raster'\n",
    "iw = spatial.ImageWriter(outFile, tlx=xMin, tly=yMax, binSize=BINSIZE)\n",
    "iw.setLayer(outImage)\n",
    "iw.close()"
   ]
  },
  {
   "cell_type": "code",
   "execution_count": 2,
   "metadata": {},
   "outputs": [
    {
     "ename": "NameError",
     "evalue": "name 'outFile' is not defined",
     "output_type": "error",
     "traceback": [
      "\u001b[0;31m---------------------------------------------------------------------------\u001b[0m",
      "\u001b[0;31mNameError\u001b[0m                                 Traceback (most recent call last)",
      "\u001b[0;32m<ipython-input-2-b604cff09339>\u001b[0m in \u001b[0;36m<module>\u001b[0;34m()\u001b[0m\n\u001b[1;32m     17\u001b[0m \u001b[0;34m\u001b[0m\u001b[0m\n\u001b[1;32m     18\u001b[0m \u001b[0;31m#outFile = 'building_dem'\u001b[0m\u001b[0;34m\u001b[0m\u001b[0;34m\u001b[0m\u001b[0m\n\u001b[0;32m---> 19\u001b[0;31m \u001b[0miw\u001b[0m \u001b[0;34m=\u001b[0m \u001b[0mspatial\u001b[0m\u001b[0;34m.\u001b[0m\u001b[0mImageWriter\u001b[0m\u001b[0;34m(\u001b[0m\u001b[0moutFile\u001b[0m\u001b[0;34m,\u001b[0m \u001b[0mtlx\u001b[0m\u001b[0;34m=\u001b[0m\u001b[0mxMin\u001b[0m\u001b[0;34m,\u001b[0m \u001b[0mtly\u001b[0m\u001b[0;34m=\u001b[0m\u001b[0myMax\u001b[0m\u001b[0;34m,\u001b[0m \u001b[0mbinSize\u001b[0m\u001b[0;34m=\u001b[0m\u001b[0mBINSIZE\u001b[0m\u001b[0;34m)\u001b[0m\u001b[0;34m\u001b[0m\u001b[0m\n\u001b[0m\u001b[1;32m     20\u001b[0m \u001b[0miw\u001b[0m\u001b[0;34m.\u001b[0m\u001b[0msetLayer\u001b[0m\u001b[0;34m(\u001b[0m\u001b[0mdem\u001b[0m\u001b[0;34m)\u001b[0m\u001b[0;34m\u001b[0m\u001b[0m\n\u001b[1;32m     21\u001b[0m \u001b[0miw\u001b[0m\u001b[0;34m.\u001b[0m\u001b[0mclose\u001b[0m\u001b[0;34m(\u001b[0m\u001b[0;34m)\u001b[0m\u001b[0;34m\u001b[0m\u001b[0m\n",
      "\u001b[0;31mNameError\u001b[0m: name 'outFile' is not defined"
     ]
    }
   ],
   "source": [
    "from pylidar import lidarprocessor\n",
    "from pylidar.toolbox import spatial\n",
    "from pylidar.toolbox import interpolation\n",
    "\n",
    "BINSIZE = 1.0\n",
    "\n",
    "inFile = 'data/1641_2617.las'\n",
    "data = spatial.readLidarPoints(inFile,\n",
    "        classification=lidarprocessor.CLASSIFICATION_GROUND)\n",
    "\n",
    "(xMin, yMax, ncols, nrows) = spatial.getGridInfoFromData(data['X'], data['Y'],\n",
    "            BINSIZE)\n",
    "\n",
    "pxlCoords = spatial.getBlockCoordArrays(xMin, yMax, ncols, nrows, BINSIZE)\n",
    "\n",
    "dem = interpolation.interpGrid(data['X'], data['Y'], data['Z'], pxlCoords, 'pynn')\n",
    "\n",
    "#outFile = 'building_dem'\n",
    "iw = spatial.ImageWriter(outFile, tlx=xMin, tly=yMax, binSize=BINSIZE)\n",
    "iw.setLayer(dem)\n",
    "iw.close()"
   ]
  },
  {
   "cell_type": "code",
   "execution_count": null,
   "metadata": {},
   "outputs": [],
   "source": []
  }
 ],
 "metadata": {
  "kernelspec": {
   "display_name": "Python 3",
   "language": "python",
   "name": "python3"
  },
  "language_info": {
   "codemirror_mode": {
    "name": "ipython",
    "version": 3
   },
   "file_extension": ".py",
   "mimetype": "text/x-python",
   "name": "python",
   "nbconvert_exporter": "python",
   "pygments_lexer": "ipython3",
   "version": "3.6.5"
  }
 },
 "nbformat": 4,
 "nbformat_minor": 1
}
