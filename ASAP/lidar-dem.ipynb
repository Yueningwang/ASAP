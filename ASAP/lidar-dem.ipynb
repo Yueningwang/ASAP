{
 "cells": [
  {
   "cell_type": "code",
   "execution_count": 4,
   "metadata": {},
   "outputs": [],
   "source": [
    "# Reads in an input lidar file and writes an\n",
    "# output image file with the minimum 'Z' value for\n",
    "# each bin\n",
    "import numpy\n",
    "from numba import jit\n",
    "from pylidar import lidarprocessor\n",
    "from pylidar.toolbox import spatial\n",
    "from pylidar.lidarformats import generic\n",
    "\n",
    "BINSIZE = 1.0\n",
    "\n",
    "@jit\n",
    "def findMinZs(data, outImage, xMin, yMax):\n",
    "    for i in range(data.shape[0]):\n",
    "        if data[i]['CLASSIFICATION'] == lidarprocessor.CLASSIFICATION_GROUND:\n",
    "            row, col = spatial.xyToRowColNumba(data[i]['X'], data[i]['Y'],\n",
    "                    xMin, yMax, BINSIZE)\n",
    "            if outImage[row, col] != 0:\n",
    "                if data[i]['Z'] < outImage[row, col]:\n",
    "                    outImage[row, col] = data[i]['Z']\n",
    "            else:\n",
    "                outImage[row, col] = data[i]['Z']\n",
    "\n",
    "def processChunk(data, otherArgs):\n",
    "    lidar = data.input1.getPoints(colNames=['X', 'Y', 'Z', 'CLASSIFICATION'])\n",
    "    findMinZs(lidar, otherArgs.outImage, otherArgs.xMin, otherArgs.yMax)\n",
    "\n",
    "inFile = 'building.las'\n",
    "info = generic.getLidarFileInfo(inFile)\n",
    "header = info.header\n",
    "\n",
    "dataFiles = lidarprocessor.DataFiles()\n",
    "dataFiles.input1 = lidarprocessor.LidarFile(inFile, lidarprocessor.READ)\n",
    "\n",
    "xMin, yMax, ncols, nrows = spatial.getGridInfoFromHeader(header, BINSIZE)\n",
    "\n",
    "outImage = numpy.zeros((nrows, ncols))\n",
    "\n",
    "otherArgs = lidarprocessor.OtherArgs()\n",
    "otherArgs.outImage = outImage\n",
    "otherArgs.xMin = xMin\n",
    "otherArgs.yMax = yMax\n",
    "\n",
    "lidarprocessor.doProcessing(processChunk, dataFiles, otherArgs=otherArgs)\n",
    "\n",
    "outFile = 'raster.img'\n",
    "iw = spatial.ImageWriter(outFile, tlx=xMin, tly=yMax, binSize=BINSIZE)\n",
    "iw.setLayer(outImage)\n",
    "iw.close()"
   ]
  }
 ],
 "metadata": {
  "kernelspec": {
   "display_name": "Python 3",
   "language": "python",
   "name": "python3"
  },
  "language_info": {
   "codemirror_mode": {
    "name": "ipython",
    "version": 3
   },
   "file_extension": ".py",
   "mimetype": "text/x-python",
   "name": "python",
   "nbconvert_exporter": "python",
   "pygments_lexer": "ipython3",
   "version": "3.6.5"
  }
 },
 "nbformat": 4,
 "nbformat_minor": 1
}
