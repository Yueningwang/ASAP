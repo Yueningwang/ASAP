{
 "cells": [
  {
   "cell_type": "code",
   "execution_count": 2,
   "metadata": {
    "collapsed": true
   },
   "outputs": [],
   "source": [
    "import laspy\n"
   ]
  },
  {
   "cell_type": "code",
   "execution_count": 3,
   "metadata": {},
   "outputs": [],
   "source": [
    "file = laspy.file.File(\"ASAP/data/1641_2617.las\", mode = \"r\")"
   ]
  },
  {
   "cell_type": "code",
   "execution_count": 4,
   "metadata": {},
   "outputs": [],
   "source": [
    "point = file.points"
   ]
  },
  {
   "cell_type": "code",
   "execution_count": 5,
   "metadata": {},
   "outputs": [
    {
     "name": "stdout",
     "output_type": "stream",
     "text": [
      "[((-1328411, -1446489, 118252, 255,  9, 2, -9, 220, 34, 1.15330470e+08),)\n ((-1466265, -1333820, 121514, 178,  9, 1, -8, 220, 34, 1.15330470e+08),)\n ((-1438167, -1352203, 166043,  28, 25, 1, -8, 220, 34, 1.15330470e+08),)\n ...\n (( 1394259,  1409409, 104367, 112,  9, 1, 20, 220, 34, 1.15330460e+08),)\n (( 1443623,  1323671, 100247,  84, 73, 2,  0, 230, 33, 1.15329917e+08),)\n (( 1420880,  1492361, 104977,  86,  9, 1, 17, 230, 34, 1.15330461e+08),)]\n"
     ]
    }
   ],
   "source": [
    "print(point)"
   ]
  },
  {
   "cell_type": "code",
   "execution_count": 6,
   "metadata": {},
   "outputs": [
    {
     "name": "stdout",
     "output_type": "stream",
     "text": [
      "X\nY\nZ\nintensity\nflag_byte\nraw_classification\nscan_angle_rank\nuser_data\npt_src_id\ngps_time\n"
     ]
    }
   ],
   "source": [
    "for format in file.point_format:\n",
    "    print(format.name)"
   ]
  },
  {
   "cell_type": "code",
   "execution_count": 7,
   "metadata": {},
   "outputs": [
    {
     "name": "stdout",
     "output_type": "stream",
     "text": [
      "4441440 points out of 4597487 were ground points.\n"
     ]
    }
   ],
   "source": [
    "num_returns = file.num_returns\n",
    "return_num = file.return_num\n",
    "ground_points = file.points[num_returns == return_num]\n",
    "\n",
    "print(\"%i points out of %i were ground points.\" % (len(ground_points),\n",
    "        len(file)))"
   ]
  },
  {
   "cell_type": "code",
   "execution_count": 13,
   "metadata": {},
   "outputs": [
    {
     "ename": "NameError",
     "evalue": "name 'laspy' is not defined",
     "traceback": [
      "\u001b[0;31m---------------------------------------------------------------------------\u001b[0m",
      "\u001b[0;31mNameError\u001b[0m                                 Traceback (most recent call last)",
      "\u001b[0;32m<ipython-input-13-b577a34aea97>\u001b[0m in \u001b[0;36m<module>\u001b[0;34m()\u001b[0m\n\u001b[0;32m----> 1\u001b[0;31m ground_file = laspy.file.File(\"ASAP/data/ground_points.las\", mode = \"w\",\n\u001b[0m\u001b[1;32m      2\u001b[0m                 header = file.header)\n\u001b[1;32m      3\u001b[0m \u001b[0mground_file\u001b[0m\u001b[0;34m.\u001b[0m\u001b[0mpoints\u001b[0m \u001b[0;34m=\u001b[0m \u001b[0mground_points\u001b[0m\u001b[0;34m\u001b[0m\u001b[0m\n\u001b[1;32m      4\u001b[0m \u001b[0mground_file\u001b[0m\u001b[0;34m.\u001b[0m\u001b[0mclose\u001b[0m\u001b[0;34m(\u001b[0m\u001b[0;34m)\u001b[0m\u001b[0;34m\u001b[0m\u001b[0m\n",
      "\u001b[0;31mNameError\u001b[0m: name 'laspy' is not defined"
     ],
     "output_type": "error"
    }
   ],
   "source": [
    "ground_file = laspy.file.File(\"ASAP/data/ground_points.las\", mode = \"w\",\n",
    "                header = file.header)\n",
    "ground_file.points = ground_points\n",
    "ground_file.close()"
   ]
  },
  {
   "cell_type": "code",
   "execution_count": 8,
   "metadata": {},
   "outputs": [],
   "source": [
    "file1 = laspy.file.File(\"ASAP/data/ground_points.las\", mode = \"r\")"
   ]
  },
  {
   "cell_type": "code",
   "execution_count": 11,
   "metadata": {},
   "outputs": [
    {
     "data": {
      "text/plain": [
       "array([((-1328411, -1446489, 118252, 255,  9, 2,  -9, 220, 34, 1.15330470e+08),),\n       ((-1466265, -1333820, 121514, 178,  9, 1,  -8, 220, 34, 1.15330470e+08),),\n       ((-1464370, -1314729, 121831,  66, 82, 1, -16, 229, 35, 1.15331198e+08),),\n       ...,\n       (( 1394259,  1409409, 104367, 112,  9, 1,  20, 220, 34, 1.15330460e+08),),\n       (( 1443623,  1323671, 100247,  84, 73, 2,   0, 230, 33, 1.15329917e+08),),\n       (( 1420880,  1492361, 104977,  86,  9, 1,  17, 230, 34, 1.15330461e+08),)],\n      dtype=[('point', [('X', '<i4'), ('Y', '<i4'), ('Z', '<i4'), ('intensity', '<u2'), ('flag_byte', 'u1'), ('raw_classification', 'u1'), ('scan_angle_rank', 'i1'), ('user_data', 'u1'), ('pt_src_id', '<u2'), ('gps_time', '<f8')])])"
      ]
     },
     "execution_count": 11,
     "metadata": {},
     "output_type": "execute_result"
    }
   ],
   "source": [
    "file1.points"
   ]
  },
  {
   "cell_type": "code",
   "execution_count": 18,
   "metadata": {},
   "outputs": [],
   "source": [
    "b = file.Classification == 6"
   ]
  },
  {
   "cell_type": "code",
   "execution_count": 19,
   "metadata": {},
   "outputs": [],
   "source": [
    "building_file = laspy.file.File('ASAP/data/building.las', mode = \"w\", header = file.header)\n",
    "building_file.points = file.points[b]\n",
    "building_file.close()"
   ]
  },
  {
   "cell_type": "code",
   "execution_count": 20,
   "metadata": {},
   "outputs": [],
   "source": [
    "file2 = laspy.file.File(\"ASAP/data/building.las\", mode = \"r\")"
   ]
  },
  {
   "cell_type": "code",
   "execution_count": 22,
   "metadata": {},
   "outputs": [
    {
     "data": {
      "text/plain": [
       "array([((-193198, -1486464, 163162, 255, 73, 6,  -6, 220, 34, 1.15330466e+08),),\n       ((-193625, -1492412, 163181, 208,  9, 6, -17, 220, 35, 1.15331203e+08),),\n       ((-189476, -1497281, 163154, 198,  9, 6, -17, 220, 35, 1.15331203e+08),),\n       ...,\n       ((1335886,  -558341, 140735,   4, 73, 6,  -1, 220, 34, 1.15330461e+08),),\n       ((1329243,  -557716, 140686,  28, 73, 6,  19, 220, 33, 1.15329916e+08),),\n       ((1338747,  -554667, 140656,  30,  9, 6,  19, 230, 33, 1.15329917e+08),)],\n      dtype=[('point', [('X', '<i4'), ('Y', '<i4'), ('Z', '<i4'), ('intensity', '<u2'), ('flag_byte', 'u1'), ('raw_classification', 'u1'), ('scan_angle_rank', 'i1'), ('user_data', 'u1'), ('pt_src_id', '<u2'), ('gps_time', '<f8')])])"
      ]
     },
     "execution_count": 22,
     "metadata": {},
     "output_type": "execute_result"
    }
   ],
   "source": [
    "file2.points"
   ]
  },
  {
   "cell_type": "code",
   "execution_count": null,
   "metadata": {},
   "outputs": [],
   "source": []
  }
 ],
 "metadata": {
  "kernelspec": {
   "display_name": "Python 2",
   "language": "python",
   "name": "python2"
  },
  "language_info": {
   "codemirror_mode": {
    "name": "ipython",
    "version": 2
   },
   "file_extension": ".py",
   "mimetype": "text/x-python",
   "name": "python",
   "nbconvert_exporter": "python",
   "pygments_lexer": "ipython2",
   "version": "2.7.6"
  }
 },
 "nbformat": 4,
 "nbformat_minor": 0
}
