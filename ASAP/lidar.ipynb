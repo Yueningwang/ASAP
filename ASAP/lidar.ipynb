{
 "cells": [
  {
   "cell_type": "code",
   "execution_count": 10,
   "metadata": {
    "collapsed": true
   },
   "outputs": [],
   "source": [
    "import laspy"
   ]
  },
  {
   "cell_type": "code",
   "execution_count": 12,
   "metadata": {},
   "outputs": [],
   "source": [
    "file = laspy.file.File(\"ASAP/data/1641_2617.las\", mode = \"r\")"
   ]
  },
  {
   "cell_type": "code",
   "execution_count": 13,
   "metadata": {},
   "outputs": [],
   "source": [
    "point = file.points"
   ]
  },
  {
   "cell_type": "code",
   "execution_count": 14,
   "metadata": {},
   "outputs": [
    {
     "name": "stdout",
     "output_type": "stream",
     "text": [
      "[((-1328411, -1446489, 118252, 255,  9, 2, -9, 220, 34, 1.15330470e+08),)\n ((-1466265, -1333820, 121514, 178,  9, 1, -8, 220, 34, 1.15330470e+08),)\n ((-1438167, -1352203, 166043,  28, 25, 1, -8, 220, 34, 1.15330470e+08),)\n ...\n (( 1394259,  1409409, 104367, 112,  9, 1, 20, 220, 34, 1.15330460e+08),)\n (( 1443623,  1323671, 100247,  84, 73, 2,  0, 230, 33, 1.15329917e+08),)\n (( 1420880,  1492361, 104977,  86,  9, 1, 17, 230, 34, 1.15330461e+08),)]\n"
     ]
    }
   ],
   "source": [
    "print(point)"
   ]
  },
  {
   "cell_type": "code",
   "execution_count": 15,
   "metadata": {},
   "outputs": [
    {
     "name": "stdout",
     "output_type": "stream",
     "text": [
      "X\nY\nZ\nintensity\nflag_byte\nraw_classification\nscan_angle_rank\nuser_data\npt_src_id\ngps_time\n"
     ]
    }
   ],
   "source": [
    "for format in file.point_format:\n",
    "    print(format.name)"
   ]
  },
  {
   "cell_type": "code",
   "execution_count": 16,
   "metadata": {},
   "outputs": [
    {
     "name": "stdout",
     "output_type": "stream",
     "text": [
      "4441440 points out of 4597487 were ground points.\n"
     ]
    }
   ],
   "source": [
    "num_returns = file.num_returns\n",
    "return_num = file.return_num\n",
    "ground_points = file.points[num_returns == return_num]\n",
    "\n",
    "print(\"%i points out of %i were ground points.\" % (len(ground_points),\n",
    "        len(file)))"
   ]
  },
  {
   "cell_type": "code",
   "execution_count": 29,
   "metadata": {},
   "outputs": [],
   "source": [
    "ground_file = laspy.file.File(\"ASAP/data/ground_points.las\", mode = \"w\",\n",
    "                header = file.header)\n",
    "ground_file.points = ground_points\n",
    "ground_file.close()"
   ]
  },
  {
   "cell_type": "code",
   "execution_count": 33,
   "metadata": {},
   "outputs": [],
   "source": [
    "file1 = laspy.file.File(\"ASAP/data/ground_points.las\", mode = \"r\")"
   ]
  },
  {
   "cell_type": "code",
   "execution_count": 35,
   "metadata": {},
   "outputs": [
    {
     "data": {
      "text/plain": [
       "array([((-1328411, -1446489, 118252, 255,  9, 2,  -9, 220, 34, 1.15330470e+08),),\n       ((-1466265, -1333820, 121514, 178,  9, 1,  -8, 220, 34, 1.15330470e+08),),\n       ((-1464370, -1314729, 121831,  66, 82, 1, -16, 229, 35, 1.15331198e+08),),\n       ...,\n       (( 1394259,  1409409, 104367, 112,  9, 1,  20, 220, 34, 1.15330460e+08),),\n       (( 1443623,  1323671, 100247,  84, 73, 2,   0, 230, 33, 1.15329917e+08),),\n       (( 1420880,  1492361, 104977,  86,  9, 1,  17, 230, 34, 1.15330461e+08),)],\n      dtype=[('point', [('X', '<i4'), ('Y', '<i4'), ('Z', '<i4'), ('intensity', '<u2'), ('flag_byte', 'u1'), ('raw_classification', 'u1'), ('scan_angle_rank', 'i1'), ('user_data', 'u1'), ('pt_src_id', '<u2'), ('gps_time', '<f8')])])"
      ]
     },
     "execution_count": 35,
     "metadata": {},
     "output_type": "execute_result"
    }
   ],
   "source": [
    "file1.points"
   ]
  },
  {
   "cell_type": "code",
   "execution_count": null,
   "metadata": {},
   "outputs": [],
   "source": []
  }
 ],
 "metadata": {
  "kernelspec": {
   "display_name": "Python 2",
   "language": "python",
   "name": "python2"
  },
  "language_info": {
   "codemirror_mode": {
    "name": "ipython",
    "version": 2
   },
   "file_extension": ".py",
   "mimetype": "text/x-python",
   "name": "python",
   "nbconvert_exporter": "python",
   "pygments_lexer": "ipython2",
   "version": "2.7.6"
  }
 },
 "nbformat": 4,
 "nbformat_minor": 0
}
