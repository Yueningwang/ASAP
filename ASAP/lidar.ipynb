{
 "cells": [
  {
   "cell_type": "code",
   "execution_count": 1,
   "metadata": {
    "collapsed": true
   },
   "outputs": [],
   "source": [
    "import laspy"
   ]
  },
  {
   "cell_type": "code",
   "execution_count": 3,
   "metadata": {},
   "outputs": [],
   "source": [
    "file = laspy.file.File(\"ASAP/data/1641_2617.las\", mode = \"r\")"
   ]
  },
  {
   "cell_type": "code",
   "execution_count": 6,
   "metadata": {},
   "outputs": [],
   "source": [
    "point = file.points"
   ]
  },
  {
   "cell_type": "code",
   "execution_count": 7,
   "metadata": {},
   "outputs": [
    {
     "name": "stdout",
     "output_type": "stream",
     "text": [
      "[((-1328411, -1446489, 118252, 255,  9, 2, -9, 220, 34, 1.15330470e+08),)\n ((-1466265, -1333820, 121514, 178,  9, 1, -8, 220, 34, 1.15330470e+08),)\n ((-1438167, -1352203, 166043,  28, 25, 1, -8, 220, 34, 1.15330470e+08),)\n ...\n (( 1394259,  1409409, 104367, 112,  9, 1, 20, 220, 34, 1.15330460e+08),)\n (( 1443623,  1323671, 100247,  84, 73, 2,  0, 230, 33, 1.15329917e+08),)\n (( 1420880,  1492361, 104977,  86,  9, 1, 17, 230, 34, 1.15330461e+08),)]\n"
     ]
    }
   ],
   "source": [
    "print(point)"
   ]
  },
  {
   "cell_type": "code",
   "execution_count": 9,
   "metadata": {},
   "outputs": [
    {
     "name": "stdout",
     "output_type": "stream",
     "text": [
      "X\nY\nZ\nintensity\nflag_byte\nraw_classification\nscan_angle_rank\nuser_data\npt_src_id\ngps_time\n"
     ]
    }
   ],
   "source": [
    "for format in file.point_format:\n",
    "    print(format.name)"
   ]
  },
  {
   "cell_type": "code",
   "execution_count": null,
   "metadata": {},
   "outputs": [],
   "source": []
  }
 ],
 "metadata": {
  "kernelspec": {
   "display_name": "Python 2",
   "language": "python",
   "name": "python2"
  },
  "language_info": {
   "codemirror_mode": {
    "name": "ipython",
    "version": 2
   },
   "file_extension": ".py",
   "mimetype": "text/x-python",
   "name": "python",
   "nbconvert_exporter": "python",
   "pygments_lexer": "ipython2",
   "version": "2.7.6"
  }
 },
 "nbformat": 4,
 "nbformat_minor": 0
}
